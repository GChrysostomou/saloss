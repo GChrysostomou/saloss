{
 "cells": [
  {
   "cell_type": "code",
   "execution_count": 1,
   "metadata": {},
   "outputs": [
    {
     "name": "stdout",
     "output_type": "stream",
     "text": [
      "fatal: destination path 'evidence-inference' already exists and is not an empty directory.\r\n"
     ]
    }
   ],
   "source": [
    "!git clone https://github.com/jayded/evidence-inference.git"
   ]
  },
  {
   "cell_type": "code",
   "execution_count": 2,
   "metadata": {},
   "outputs": [],
   "source": [
    "from process_evidence_inference import read_docs"
   ]
  },
  {
   "cell_type": "code",
   "execution_count": 3,
   "metadata": {},
   "outputs": [
    {
     "name": "stdout",
     "output_type": "stream",
     "text": [
      "Reading prompts + articles\n",
      "2419\n",
      "10137\n",
      "Processing annotations\n",
      "Retained 7193/19716 valid annotations (613 w/ bad offsets)\n",
      "Retained 1772/2419 docs with nonzero prompts\n"
     ]
    }
   ],
   "source": [
    "docs = read_docs(abst_only=True)"
   ]
  },
  {
   "cell_type": "code",
   "execution_count": 4,
   "metadata": {},
   "outputs": [],
   "source": [
    "from bisect import *\n",
    "def find_ge(a, x):\n",
    "    'Find leftmost item greater than or equal to x'\n",
    "    i = bisect_left(a, x)\n",
    "    return i\n",
    "    \n",
    "def find_le(a, x):\n",
    "    'Find rightmost value less than or equal to x'\n",
    "    i = bisect_right(a, x)\n",
    "    if i:\n",
    "        return i-1\n",
    "    raise ValueError"
   ]
  },
  {
   "cell_type": "code",
   "execution_count": 5,
   "metadata": {},
   "outputs": [],
   "source": [
    "import spacy\n",
    "nlp = spacy.load(\"en_core_web_sm\")"
   ]
  },
  {
   "cell_type": "code",
   "execution_count": 6,
   "metadata": {},
   "outputs": [
    {
     "name": "stderr",
     "output_type": "stream",
     "text": [
      "100%|██████████| 1772/1772 [02:15<00:00, 13.06it/s]\n"
     ]
    }
   ],
   "source": [
    "from tqdm import tqdm\n",
    "annotations = []\n",
    "for d in tqdm(docs) :\n",
    "    dn = nlp(d.text)\n",
    "    text = \" \".join([t.text for t in dn if t.text.strip() != ''])\n",
    "    tidx = [t.idx for t in dn if t.text.strip() != '']\n",
    "    for i, f in enumerate(d.frames) :\n",
    "        annotation_id = str(d.id) + '_' + str(i)\n",
    "        annotations.append({\n",
    "            'annotation_id' : annotation_id,\n",
    "            'doc_id' : d.id, \n",
    "            'document' : text,\n",
    "            'rationale' : [(find_le(tidx, f.ev.i), find_ge(tidx, f.ev.f))],\n",
    "            'label_id' : f.encoder_label[f.label],\n",
    "            'query' : ' || '.join([f.i, f.c, f.o])\n",
    "        })"
   ]
  },
  {
   "cell_type": "code",
   "execution_count": 7,
   "metadata": {},
   "outputs": [],
   "source": [
    "import pandas as pd\n",
    "import numpy as np\n",
    "annotations = pd.DataFrame(annotations)\n",
    "label_vocab = dict(enumerate(np.unique(annotations.label_id.values)))\n",
    "label_vocab = {v:k for k,v in label_vocab.items()}\n",
    "annotations[\"label\"] = annotations.label_id.apply(lambda x: label_vocab[x])"
   ]
  },
  {
   "cell_type": "code",
   "execution_count": 8,
   "metadata": {},
   "outputs": [],
   "source": [
    "train_ids = [int(x) for x in open('evidence-inference/annotations/splits/train_article_ids.txt').read().strip().split()]\n",
    "dev_ids = [int(x) for x in open('evidence-inference/annotations/splits/validation_article_ids.txt').read().strip().split()]\n",
    "test_ids = [int(x) for x in open('evidence-inference/annotations/splits/test_article_ids.txt').read().strip().split()]"
   ]
  },
  {
   "cell_type": "code",
   "execution_count": 9,
   "metadata": {},
   "outputs": [
    {
     "name": "stderr",
     "output_type": "stream",
     "text": [
      "/home/kokos/.conda/envs/requirements_file/lib/python3.5/site-packages/ipykernel_launcher.py:2: SettingWithCopyWarning: \n",
      "A value is trying to be set on a copy of a slice from a DataFrame.\n",
      "Try using .loc[row_indexer,col_indexer] = value instead\n",
      "\n",
      "See the caveats in the documentation: http://pandas.pydata.org/pandas-docs/stable/indexing.html#indexing-view-versus-copy\n",
      "  \n",
      "/home/kokos/.conda/envs/requirements_file/lib/python3.5/site-packages/ipykernel_launcher.py:4: SettingWithCopyWarning: \n",
      "A value is trying to be set on a copy of a slice from a DataFrame.\n",
      "Try using .loc[row_indexer,col_indexer] = value instead\n",
      "\n",
      "See the caveats in the documentation: http://pandas.pydata.org/pandas-docs/stable/indexing.html#indexing-view-versus-copy\n",
      "  after removing the cwd from sys.path.\n",
      "/home/kokos/.conda/envs/requirements_file/lib/python3.5/site-packages/ipykernel_launcher.py:6: SettingWithCopyWarning: \n",
      "A value is trying to be set on a copy of a slice from a DataFrame.\n",
      "Try using .loc[row_indexer,col_indexer] = value instead\n",
      "\n",
      "See the caveats in the documentation: http://pandas.pydata.org/pandas-docs/stable/indexing.html#indexing-view-versus-copy\n",
      "  \n"
     ]
    }
   ],
   "source": [
    "train = annotations[annotations.doc_id.isin(train_ids)]\n",
    "train[\"exp_split\"] = \"train\"\n",
    "dev = annotations[annotations.doc_id.isin(dev_ids)]\n",
    "dev[\"exp_split\"] = \"dev\"\n",
    "test = annotations[annotations.doc_id.isin(test_ids)]\n",
    "test[\"exp_split\"] = \"test\"\n",
    "\n",
    "import os\n",
    "os.makedirs('data', exist_ok=True)\n",
    "train.to_csv(\"data/train.csv\", index = False)\n",
    "dev.to_csv(\"data/dev.csv\", index = False)\n",
    "test.to_csv(\"data/test.csv\", index = False)"
   ]
  }
 ],
 "metadata": {
  "kernelspec": {
   "display_name": "requirements_file",
   "language": "python",
   "name": "requirements_file"
  },
  "language_info": {
   "codemirror_mode": {
    "name": "ipython",
    "version": 3
   },
   "file_extension": ".py",
   "mimetype": "text/x-python",
   "name": "python",
   "nbconvert_exporter": "python",
   "pygments_lexer": "ipython3",
   "version": "3.5.6"
  }
 },
 "nbformat": 4,
 "nbformat_minor": 4
}
