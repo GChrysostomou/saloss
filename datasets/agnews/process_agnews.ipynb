{
 "cells": [
  {
   "cell_type": "code",
   "execution_count": null,
   "metadata": {},
   "outputs": [],
   "source": [
    "!rm ag_news_csv.tgz\n",
    "!wget https://s3.amazonaws.com/fast-ai-nlp/ag_news_csv.tgz\n",
    "!tar -xvzf ag_news_csv.tgz"
   ]
  },
  {
   "cell_type": "code",
   "execution_count": null,
   "metadata": {},
   "outputs": [],
   "source": [
    "import pandas as pd\n",
    "from tqdm import tqdm_notebook\n",
    "\n",
    "df = {}\n",
    "keys = ['train', 'test']\n",
    "for k in keys :\n",
    "    df[k] = pd.read_csv('ag_news_csv/' + k + '.csv', header=None)\n",
    "\n",
    "classes = open('ag_news_csv/classes.txt').read().strip().split('\\n')\n",
    "for k in keys :\n",
    "    df[k][0] = df[k][0].apply(lambda x : classes[x-1])\n",
    "\n",
    "import pandas as pd\n",
    "df_texts = []\n",
    "df_labels = []\n",
    "df_exp_splits = []\n",
    "\n",
    "for key in ['train', 'test'] :\n",
    "    df_texts += list(df[key][2])\n",
    "    df_labels += list(df[key][0])\n",
    "    df_exp_splits += [key] * len(list(df[key][2]))\n",
    "    \n",
    "df = pd.DataFrame({'text' : df_texts, 'label' : df_labels, 'exp_split' : df_exp_splits})\n",
    "\n",
    "from sklearn.model_selection import train_test_split\n",
    "train_idx, dev_idx = train_test_split(df.index[df.exp_split == 'train'], test_size=0.15, random_state=16377)\n",
    "df.loc[dev_idx, 'exp_split'] = 'dev'\n",
    "df.to_csv('agnews_dataset_split_full.csv', index=False)"
   ]
  },
  {
   "cell_type": "code",
   "execution_count": null,
   "metadata": {},
   "outputs": [],
   "source": [
    "import pandas as pd\n",
    "import json\n",
    "from tqdm import tqdm\n",
    "import os\n",
    "os.makedirs('data', exist_ok=True)"
   ]
  },
  {
   "cell_type": "code",
   "execution_count": null,
   "metadata": {},
   "outputs": [],
   "source": [
    "data = pd.read_csv('agnews_dataset_split_full.csv')"
   ]
  },
  {
   "cell_type": "code",
   "execution_count": null,
   "metadata": {},
   "outputs": [],
   "source": [
    "import spacy\n",
    "nlp = spacy.load('en')\n",
    "\n",
    "def clean_text(text) :\n",
    "    return \" \".join([sent.text for sent in nlp(text)])"
   ]
  },
  {
   "cell_type": "code",
   "execution_count": null,
   "metadata": {},
   "outputs": [],
   "source": [
    "data = data.rename(columns = {\"label\":\"label_id\"})"
   ]
  },
  {
   "cell_type": "code",
   "execution_count": null,
   "metadata": {},
   "outputs": [],
   "source": [
    "label_ids = {v:k for k,v in dict(enumerate(data.label_id.unique())).items()}\n",
    "\n",
    "tqdm.pandas()\n",
    "\n",
    "data[\"label\"] = data.label_id.progress_apply(lambda x : label_ids[x])\n",
    "data[\"text\"] = data.text.progress_apply(lambda x : clean_text(x))"
   ]
  },
  {
   "cell_type": "code",
   "execution_count": null,
   "metadata": {},
   "outputs": [],
   "source": [
    "pd.options.mode.chained_assignment = None \n",
    "train = data.loc[data.exp_split == \"train\"]\n",
    "train[\"annotation_id\"] = list(range(len(train)))\n",
    "train.annotation_id = train.annotation_id.apply(lambda x: \"train_\" + str(x))\n",
    "train.to_csv(\"data/train.csv\", index = False)\n",
    "\n",
    "dev = data.loc[data.exp_split == \"dev\"]\n",
    "dev[\"annotation_id\"] = list(range(len(dev)))\n",
    "dev.annotation_id = dev.annotation_id.apply(lambda x: \"dev_\" + str(x))\n",
    "dev.to_csv(\"data/dev.csv\", index = False)\n",
    "\n",
    "test = data.loc[data.exp_split == \"test\"]\n",
    "test[\"annotation_id\"] = list(range(len(test)))\n",
    "test.annotation_id = test.annotation_id.apply(lambda x: \"test_\" + str(x))\n",
    "test.to_csv(\"data/test.csv\", index = False)"
   ]
  }
 ],
 "metadata": {
  "kernelspec": {
   "display_name": "requirements_file",
   "language": "python",
   "name": "requirements_file"
  },
  "language_info": {
   "codemirror_mode": {
    "name": "ipython",
    "version": 3
   },
   "file_extension": ".py",
   "mimetype": "text/x-python",
   "name": "python",
   "nbconvert_exporter": "python",
   "pygments_lexer": "ipython3",
   "version": "3.5.6"
  }
 },
 "nbformat": 4,
 "nbformat_minor": 4
}
